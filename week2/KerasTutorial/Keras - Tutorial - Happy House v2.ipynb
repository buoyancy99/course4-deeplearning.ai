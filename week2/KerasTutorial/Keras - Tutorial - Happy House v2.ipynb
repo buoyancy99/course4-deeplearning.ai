{
 "cells": [
  {
   "cell_type": "markdown",
   "metadata": {},
   "source": [
    "# Keras tutorial - the Happy House\n",
    "\n",
    "Welcome to the first assignment of week 2. In this assignment, you will:\n",
    "1. Learn to use Keras, a high-level neural networks API (programming framework), written in Python and capable of running on top of several lower-level frameworks including TensorFlow and CNTK. \n",
    "2. See how you can in a couple of hours build a deep learning algorithm.\n",
    "\n",
    "Why are we using Keras? Keras was developed to enable deep learning engineers to build and experiment with different models very quickly. Just as TensorFlow is a higher-level framework than Python, Keras is an even higher-level framework and provides additional abstractions. Being able to go from idea to result with the least possible delay is key to finding good models. However, Keras is more restrictive than the lower-level frameworks, so there are some very complex models that you can implement in TensorFlow but not (without more difficulty) in Keras. That being said, Keras will work fine for many common models. \n",
    "\n",
    "In this exercise, you'll work on the \"Happy House\" problem, which we'll explain below. Let's load the required packages and solve the problem of the Happy House!"
   ]
  },
  {
   "cell_type": "code",
   "execution_count": 1,
   "metadata": {},
   "outputs": [
    {
     "name": "stderr",
     "output_type": "stream",
     "text": [
      "Using TensorFlow backend.\n"
     ]
    }
   ],
   "source": [
    "import numpy as np\n",
    "from keras import layers\n",
    "from keras.layers import Input, Dense, Activation, ZeroPadding2D, BatchNormalization, Flatten, Conv2D\n",
    "from keras.layers import AveragePooling2D, MaxPooling2D, Dropout, GlobalMaxPooling2D, GlobalAveragePooling2D\n",
    "from keras.models import Model\n",
    "from keras.preprocessing import image\n",
    "from keras.utils import layer_utils\n",
    "from keras.utils.data_utils import get_file\n",
    "from keras.applications.imagenet_utils import preprocess_input\n",
    "import pydot\n",
    "from IPython.display import SVG\n",
    "from keras.utils.vis_utils import model_to_dot\n",
    "from keras.utils import plot_model\n",
    "from kt_utils import *\n",
    "\n",
    "import keras.backend as K\n",
    "K.set_image_data_format('channels_last')\n",
    "import matplotlib.pyplot as plt\n",
    "from matplotlib.pyplot import imshow\n",
    "\n",
    "%matplotlib inline"
   ]
  },
  {
   "cell_type": "markdown",
   "metadata": {},
   "source": [
    "**Note**: As you can see, we've imported a lot of functions from Keras. You can use them easily just by calling them directly in the notebook. Ex: `X = Input(...)` or `X = ZeroPadding2D(...)`."
   ]
  },
  {
   "cell_type": "markdown",
   "metadata": {},
   "source": [
    "## 1 - The Happy House \n",
    "\n",
    "For your next vacation, you decided to spend a week with five of your friends from school. It is a very convenient house with many things to do nearby. But the most important benefit is that everybody has commited to be happy when they are in the house. So anyone wanting to enter the house must prove their current state of happiness.\n",
    "\n",
    "<img src=\"images/happy-house.jpg\" style=\"width:350px;height:270px;\">\n",
    "<caption><center> <u> <font color='purple'> **Figure 1** </u><font color='purple'>  : **the Happy House**</center></caption>\n",
    "\n",
    "\n",
    "As a deep learning expert, to make sure the \"Happy\" rule is strictly applied, you are going to build an algorithm which that uses pictures from the front door camera to check if the person is happy or not. The door should open only if the person is happy. \n",
    "\n",
    "You have gathered pictures of your friends and yourself, taken by the front-door camera. The dataset is labbeled. \n",
    "\n",
    "<img src=\"images/house-members.png\" style=\"width:550px;height:250px;\">\n",
    "\n",
    "Run the following code to normalize the dataset and learn about its shapes."
   ]
  },
  {
   "cell_type": "code",
   "execution_count": 9,
   "metadata": {},
   "outputs": [
    {
     "name": "stdout",
     "output_type": "stream",
     "text": [
      "number of training examples = 600\n",
      "number of test examples = 150\n",
      "X_train shape: (600, 64, 64, 3)\n",
      "Y_train shape: (600, 1)\n",
      "X_test shape: (150, 64, 64, 3)\n",
      "Y_test shape: (150, 1)\n"
     ]
    }
   ],
   "source": [
    "X_train_orig, Y_train_orig, X_test_orig, Y_test_orig, classes = load_dataset()\n",
    "\n",
    "# Normalize image vectors\n",
    "X_train = X_train_orig/255.\n",
    "X_test = X_test_orig/255.\n",
    "\n",
    "# Reshape\n",
    "Y_train = Y_train_orig.T\n",
    "Y_test = Y_test_orig.T\n",
    "\n",
    "print (\"number of training examples = \" + str(X_train.shape[0]))\n",
    "print (\"number of test examples = \" + str(X_test.shape[0]))\n",
    "print (\"X_train shape: \" + str(X_train.shape))\n",
    "print (\"Y_train shape: \" + str(Y_train.shape))\n",
    "print (\"X_test shape: \" + str(X_test.shape))\n",
    "print (\"Y_test shape: \" + str(Y_test.shape))"
   ]
  },
  {
   "cell_type": "markdown",
   "metadata": {},
   "source": [
    "**Details of the \"Happy\" dataset**:\n",
    "- Images are of shape (64,64,3)\n",
    "- Training: 600 pictures\n",
    "- Test: 150 pictures\n",
    "\n",
    "It is now time to solve the \"Happy\" Challenge."
   ]
  },
  {
   "cell_type": "markdown",
   "metadata": {},
   "source": [
    "## 2 - Building a model in Keras\n",
    "\n",
    "Keras is very good for rapid prototyping. In just a short time you will be able to build a model that achieves outstanding results.\n",
    "\n",
    "Here is an example of a model in Keras:\n",
    "\n",
    "```python\n",
    "def model(input_shape):\n",
    "    # Define the input placeholder as a tensor with shape input_shape. Think of this as your input image!\n",
    "    X_input = Input(input_shape)\n",
    "\n",
    "    # Zero-Padding: pads the border of X_input with zeroes\n",
    "    X = ZeroPadding2D((3, 3))(X_input)\n",
    "\n",
    "    # CONV -> BN -> RELU Block applied to X\n",
    "    X = Conv2D(32, (7, 7), strides = (1, 1), name = 'conv0')(X)\n",
    "    X = BatchNormalization(axis = 3, name = 'bn0')(X)\n",
    "    X = Activation('relu')(X)\n",
    "\n",
    "    # MAXPOOL\n",
    "    X = MaxPooling2D((2, 2), name='max_pool')(X)\n",
    "\n",
    "    # FLATTEN X (means convert it to a vector) + FULLYCONNECTED\n",
    "    X = Flatten()(X)\n",
    "    X = Dense(1, activation='sigmoid', name='fc')(X)\n",
    "\n",
    "    # Create model. This creates your Keras model instance, you'll use this instance to train/test the model.\n",
    "    model = Model(inputs = X_input, outputs = X, name='HappyModel')\n",
    "    \n",
    "    return model\n",
    "```\n",
    "\n",
    "Note that Keras uses a different convention with variable names than we've previously used with numpy and TensorFlow. In particular, rather than creating and assigning a new variable on each step of forward propagation such as `X`, `Z1`, `A1`, `Z2`, `A2`, etc. for the computations for the different layers, in Keras code each line above just reassigns `X` to a new value using `X = ...`. In other words, during each step of forward propagation, we are just writing the latest value in the commputation into the same variable `X`. The only exception was `X_input`, which we kept separate and did not overwrite, since we needed it at the end to create the Keras model instance (`model = Model(inputs = X_input, ...)` above). \n",
    "\n",
    "**Exercise**: Implement a `HappyModel()`. This assignment is more open-ended than most. We suggest that you start by implementing a model using the architecture we suggest, and run through the rest of this assignment using that as your initial model. But after that, come back and take initiative to try out other model architectures. For example, you might take inspiration from the model above, but then vary the network architecture and hyperparameters however you wish. You can also use other functions such as `AveragePooling2D()`, `GlobalMaxPooling2D()`, `Dropout()`. \n",
    "\n",
    "**Note**: You have to be careful with your data's shapes. Use what you've learned in the videos to make sure your convolutional, pooling and fully-connected layers are adapted to the volumes you're applying it to."
   ]
  },
  {
   "cell_type": "code",
   "execution_count": 10,
   "metadata": {
    "collapsed": true
   },
   "outputs": [],
   "source": [
    "# GRADED FUNCTION: HappyModel\n",
    "\n",
    "def HappyModel(input_shape):\n",
    "    \"\"\"\n",
    "    Implementation of the HappyModel.\n",
    "    \n",
    "    Arguments:\n",
    "    input_shape -- shape of the images of the dataset\n",
    "\n",
    "    Returns:\n",
    "    model -- a Model() instance in Keras\n",
    "    \"\"\"\n",
    "    \n",
    "    ### START CODE HERE ###\n",
    "    # Feel free to use the suggested outline in the text above to get started, and run through the whole\n",
    "    # exercise (including the later portions of this notebook) once. The come back also try out other\n",
    "    # network architectures as well. \n",
    "    # Define the input placeholder as a tensor with shape input_shape. Think of this as your input image!\n",
    "    X_input = Input(input_shape)\n",
    "\n",
    "    # Zero-Padding: pads the border of X_input with zeroes\n",
    "    X = ZeroPadding2D((3, 3))(X_input)\n",
    "\n",
    "    # CONV -> BN -> RELU Block applied to X\n",
    "    X = Conv2D(32, (7, 7), strides = (1, 1), name = 'conv0')(X)\n",
    "    X = BatchNormalization(axis = 3, name = 'bn0')(X)\n",
    "    X = Activation('relu')(X)\n",
    "\n",
    "    # MAXPOOL\n",
    "    X = MaxPooling2D((2, 2), name='max_pool')(X)\n",
    "\n",
    "    # FLATTEN X (means convert it to a vector) + FULLYCONNECTED\n",
    "    X = Flatten()(X)\n",
    "    X = Dense(1, activation='sigmoid', name='fc')(X)\n",
    "\n",
    "    # Create model. This creates your Keras model instance, you'll use this instance to train/test the model.\n",
    "    model = Model(inputs = X_input, outputs = X, name='HappyModel')\n",
    "\n",
    "    return model\n",
    "    \n",
    "    ### END CODE HERE ###"
   ]
  },
  {
   "cell_type": "markdown",
   "metadata": {},
   "source": [
    "You have now built a function to describe your model. To train and test this model, there are four steps in Keras:\n",
    "1. Create the model by calling the function above\n",
    "2. Compile the model by calling `model.compile(optimizer = \"...\", loss = \"...\", metrics = [\"accuracy\"])`\n",
    "3. Train the model on train data by calling `model.fit(x = ..., y = ..., epochs = ..., batch_size = ...)`\n",
    "4. Test the model on test data by calling `model.evaluate(x = ..., y = ...)`\n",
    "\n",
    "If you want to know more about `model.compile()`, `model.fit()`, `model.evaluate()` and their arguments, refer to the official [Keras documentation](https://keras.io/models/model/).\n",
    "\n",
    "**Exercise**: Implement step 1, i.e. create the model."
   ]
  },
  {
   "cell_type": "code",
   "execution_count": 11,
   "metadata": {
    "collapsed": true
   },
   "outputs": [],
   "source": [
    "### START CODE HERE ### (1 line)\n",
    "happyModel = HappyModel((64, 64, 3))\n",
    "### END CODE HERE ###"
   ]
  },
  {
   "cell_type": "markdown",
   "metadata": {},
   "source": [
    "**Exercise**: Implement step 2, i.e. compile the model to configure the learning process. Choose the 3 arguments of `compile()` wisely. Hint: the Happy Challenge is a binary classification problem."
   ]
  },
  {
   "cell_type": "code",
   "execution_count": 12,
   "metadata": {
    "collapsed": true
   },
   "outputs": [],
   "source": [
    "### START CODE HERE ### (1 line)\n",
    "happyModel.compile(optimizer = \"Adam\",loss='binary_crossentropy', metrics=['accuracy'])\n",
    "### END CODE HERE ###"
   ]
  },
  {
   "cell_type": "markdown",
   "metadata": {},
   "source": [
    "**Exercise**: Implement step 3, i.e. train the model. Choose the number of epochs and the batch size."
   ]
  },
  {
   "cell_type": "code",
   "execution_count": 13,
   "metadata": {},
   "outputs": [
    {
     "name": "stdout",
     "output_type": "stream",
     "text": [
      "Epoch 1/150\n",
      "600/600 [==============================] - 13s - loss: 0.9100 - acc: 0.7367    \n",
      "Epoch 2/150\n",
      "600/600 [==============================] - 13s - loss: 0.2204 - acc: 0.9117    \n",
      "Epoch 3/150\n",
      "600/600 [==============================] - 13s - loss: 0.2338 - acc: 0.9167    \n",
      "Epoch 4/150\n",
      "600/600 [==============================] - 13s - loss: 0.3171 - acc: 0.9033    \n",
      "Epoch 5/150\n",
      "600/600 [==============================] - 14s - loss: 0.3036 - acc: 0.9083    \n",
      "Epoch 6/150\n",
      "600/600 [==============================] - 13s - loss: 0.2007 - acc: 0.9400    \n",
      "Epoch 7/150\n",
      "600/600 [==============================] - 12s - loss: 0.1342 - acc: 0.9517    \n",
      "Epoch 8/150\n",
      "600/600 [==============================] - 12s - loss: 0.2054 - acc: 0.9383    \n",
      "Epoch 9/150\n",
      "600/600 [==============================] - 12s - loss: 0.1126 - acc: 0.9617    \n",
      "Epoch 10/150\n",
      "600/600 [==============================] - 12s - loss: 0.0806 - acc: 0.9717    \n",
      "Epoch 11/150\n",
      "600/600 [==============================] - 13s - loss: 0.0844 - acc: 0.9783    \n",
      "Epoch 12/150\n",
      "600/600 [==============================] - 16s - loss: 0.1781 - acc: 0.9600    \n",
      "Epoch 13/150\n",
      "600/600 [==============================] - 16s - loss: 0.0934 - acc: 0.9650    \n",
      "Epoch 14/150\n",
      "600/600 [==============================] - 13s - loss: 0.0642 - acc: 0.9700    \n",
      "Epoch 15/150\n",
      "600/600 [==============================] - 12s - loss: 0.0569 - acc: 0.9783    \n",
      "Epoch 16/150\n",
      "600/600 [==============================] - 12s - loss: 0.0508 - acc: 0.9817    \n",
      "Epoch 17/150\n",
      "600/600 [==============================] - 12s - loss: 0.0940 - acc: 0.9750    \n",
      "Epoch 18/150\n",
      "600/600 [==============================] - 12s - loss: 0.0982 - acc: 0.9767    \n",
      "Epoch 19/150\n",
      "600/600 [==============================] - 12s - loss: 0.1380 - acc: 0.9633    \n",
      "Epoch 20/150\n",
      "600/600 [==============================] - 12s - loss: 0.0561 - acc: 0.9767    \n",
      "Epoch 21/150\n",
      "600/600 [==============================] - 12s - loss: 0.0619 - acc: 0.9750    \n",
      "Epoch 22/150\n",
      "600/600 [==============================] - 12s - loss: 0.0487 - acc: 0.9917    \n",
      "Epoch 23/150\n",
      "600/600 [==============================] - 12s - loss: 0.0815 - acc: 0.9717    - \n",
      "Epoch 24/150\n",
      "600/600 [==============================] - 12s - loss: 0.1655 - acc: 0.9583    \n",
      "Epoch 25/150\n",
      "600/600 [==============================] - 12s - loss: 0.1732 - acc: 0.9633    \n",
      "Epoch 26/150\n",
      "600/600 [==============================] - 12s - loss: 0.0694 - acc: 0.9767    - ETA: 3s - loss: 0.064\n",
      "Epoch 27/150\n",
      "600/600 [==============================] - 12s - loss: 0.1553 - acc: 0.9600    \n",
      "Epoch 28/150\n",
      "600/600 [==============================] - 12s - loss: 0.1722 - acc: 0.9617    \n",
      "Epoch 29/150\n",
      "600/600 [==============================] - 12s - loss: 0.0969 - acc: 0.9767    \n",
      "Epoch 30/150\n",
      "600/600 [==============================] - 12s - loss: 0.0772 - acc: 0.9817    \n",
      "Epoch 31/150\n",
      "600/600 [==============================] - 12s - loss: 0.0562 - acc: 0.9867    \n",
      "Epoch 32/150\n",
      "600/600 [==============================] - 12s - loss: 0.0239 - acc: 0.9933    \n",
      "Epoch 33/150\n",
      "600/600 [==============================] - 12s - loss: 0.0088 - acc: 0.9967    \n",
      "Epoch 34/150\n",
      "600/600 [==============================] - 12s - loss: 0.0309 - acc: 0.9933    - ETA: \n",
      "Epoch 35/150\n",
      "600/600 [==============================] - 12s - loss: 0.0730 - acc: 0.9867    \n",
      "Epoch 36/150\n",
      "600/600 [==============================] - 12s - loss: 0.0508 - acc: 0.9900    \n",
      "Epoch 37/150\n",
      "600/600 [==============================] - 12s - loss: 0.0098 - acc: 0.9967    \n",
      "Epoch 38/150\n",
      "600/600 [==============================] - 12s - loss: 0.0878 - acc: 0.9700    \n",
      "Epoch 39/150\n",
      "600/600 [==============================] - 12s - loss: 0.0413 - acc: 0.9850    \n",
      "Epoch 40/150\n",
      "600/600 [==============================] - 12s - loss: 0.0487 - acc: 0.9883    \n",
      "Epoch 41/150\n",
      "600/600 [==============================] - 12s - loss: 0.0297 - acc: 0.9900    \n",
      "Epoch 42/150\n",
      "600/600 [==============================] - 12s - loss: 0.1317 - acc: 0.9733    \n",
      "Epoch 43/150\n",
      "600/600 [==============================] - 12s - loss: 0.0428 - acc: 0.9900    \n",
      "Epoch 44/150\n",
      "600/600 [==============================] - 12s - loss: 0.1859 - acc: 0.9467    \n",
      "Epoch 45/150\n",
      "600/600 [==============================] - 12s - loss: 0.1626 - acc: 0.9583    \n",
      "Epoch 46/150\n",
      "600/600 [==============================] - 12s - loss: 0.0915 - acc: 0.9750    \n",
      "Epoch 47/150\n",
      "600/600 [==============================] - 12s - loss: 0.1352 - acc: 0.9667    \n",
      "Epoch 48/150\n",
      "600/600 [==============================] - 12s - loss: 0.0922 - acc: 0.9767    \n",
      "Epoch 49/150\n",
      "600/600 [==============================] - 12s - loss: 0.0708 - acc: 0.9850    \n",
      "Epoch 50/150\n",
      "600/600 [==============================] - 12s - loss: 0.0146 - acc: 0.9917    \n",
      "Epoch 51/150\n",
      "600/600 [==============================] - 12s - loss: 0.0594 - acc: 0.9850    \n",
      "Epoch 52/150\n",
      "600/600 [==============================] - 12s - loss: 0.0304 - acc: 0.9933    \n",
      "Epoch 53/150\n",
      "600/600 [==============================] - 12s - loss: 0.0824 - acc: 0.9817    \n",
      "Epoch 54/150\n",
      "600/600 [==============================] - 12s - loss: 0.0807 - acc: 0.9750    \n",
      "Epoch 55/150\n",
      "600/600 [==============================] - 12s - loss: 0.1029 - acc: 0.9783    \n",
      "Epoch 56/150\n",
      "600/600 [==============================] - 12s - loss: 0.0282 - acc: 0.9900    \n",
      "Epoch 57/150\n",
      "600/600 [==============================] - 12s - loss: 0.0165 - acc: 0.9950    \n",
      "Epoch 58/150\n",
      "600/600 [==============================] - 12s - loss: 0.0270 - acc: 0.9967    \n",
      "Epoch 59/150\n",
      "600/600 [==============================] - 12s - loss: 0.0158 - acc: 0.9967    \n",
      "Epoch 60/150\n",
      "600/600 [==============================] - 12s - loss: 0.0249 - acc: 0.9950    \n",
      "Epoch 61/150\n",
      "600/600 [==============================] - 12s - loss: 0.0560 - acc: 0.9917    \n",
      "Epoch 62/150\n",
      "600/600 [==============================] - 12s - loss: 0.0704 - acc: 0.9900    \n",
      "Epoch 63/150\n",
      "600/600 [==============================] - 12s - loss: 0.0088 - acc: 0.9983    \n",
      "Epoch 64/150\n",
      "600/600 [==============================] - 12s - loss: 0.0038 - acc: 0.9983    \n",
      "Epoch 65/150\n",
      "600/600 [==============================] - 12s - loss: 0.0270 - acc: 0.9933    \n",
      "Epoch 66/150\n",
      "600/600 [==============================] - 12s - loss: 0.0205 - acc: 0.9950    \n",
      "Epoch 67/150\n",
      "600/600 [==============================] - 12s - loss: 0.0151 - acc: 0.9967    \n",
      "Epoch 68/150\n",
      "600/600 [==============================] - 12s - loss: 0.0627 - acc: 0.9833    \n",
      "Epoch 69/150\n",
      "600/600 [==============================] - 12s - loss: 0.0397 - acc: 0.9850    \n",
      "Epoch 70/150\n",
      "600/600 [==============================] - 12s - loss: 0.0370 - acc: 0.9917    - ETA: 0s - loss: 0.0383 - acc: 0.9\n",
      "Epoch 71/150\n",
      "600/600 [==============================] - 12s - loss: 0.0247 - acc: 0.9933    \n",
      "Epoch 72/150\n",
      "600/600 [==============================] - 12s - loss: 0.0300 - acc: 0.9933    \n",
      "Epoch 73/150\n",
      "600/600 [==============================] - 12s - loss: 0.0139 - acc: 0.9967    \n",
      "Epoch 74/150\n",
      "600/600 [==============================] - 12s - loss: 0.0073 - acc: 0.9967    \n",
      "Epoch 75/150\n",
      "600/600 [==============================] - 12s - loss: 0.0175 - acc: 0.9950    \n",
      "Epoch 76/150\n",
      "600/600 [==============================] - 12s - loss: 0.0536 - acc: 0.9833    \n",
      "Epoch 77/150\n",
      "600/600 [==============================] - 12s - loss: 0.0207 - acc: 0.9950    \n",
      "Epoch 78/150\n",
      "600/600 [==============================] - 12s - loss: 0.0251 - acc: 0.9933    \n",
      "Epoch 79/150\n",
      "600/600 [==============================] - 13s - loss: 0.0157 - acc: 0.9950    \n",
      "Epoch 80/150\n",
      "600/600 [==============================] - 12s - loss: 0.0023 - acc: 1.0000    \n",
      "Epoch 81/150\n",
      "600/600 [==============================] - 12s - loss: 0.0011 - acc: 1.0000    \n",
      "Epoch 82/150\n",
      "600/600 [==============================] - 12s - loss: 0.0195 - acc: 0.9917    \n",
      "Epoch 83/150\n",
      "600/600 [==============================] - 12s - loss: 0.0485 - acc: 0.9933    - ETA: 4s - loss: 0.0086 - acc: 0.997 - ETA: 4s - loss: \n",
      "Epoch 84/150\n",
      "600/600 [==============================] - 12s - loss: 0.0108 - acc: 0.9967    \n",
      "Epoch 85/150\n",
      "600/600 [==============================] - 12s - loss: 0.0213 - acc: 0.9933    \n",
      "Epoch 86/150\n",
      "600/600 [==============================] - 12s - loss: 0.0829 - acc: 0.9817    \n",
      "Epoch 87/150\n"
     ]
    },
    {
     "name": "stdout",
     "output_type": "stream",
     "text": [
      "600/600 [==============================] - 12s - loss: 0.0082 - acc: 0.9950    \n",
      "Epoch 88/150\n",
      "600/600 [==============================] - 12s - loss: 0.0101 - acc: 0.9950    \n",
      "Epoch 89/150\n",
      "600/600 [==============================] - 12s - loss: 0.0358 - acc: 0.9867    \n",
      "Epoch 90/150\n",
      "600/600 [==============================] - 12s - loss: 0.0490 - acc: 0.9867    \n",
      "Epoch 91/150\n",
      "600/600 [==============================] - 12s - loss: 0.0993 - acc: 0.9717    \n",
      "Epoch 92/150\n",
      "600/600 [==============================] - 12s - loss: 0.0148 - acc: 0.9917    \n",
      "Epoch 93/150\n",
      "600/600 [==============================] - 12s - loss: 0.0027 - acc: 0.9983    \n",
      "Epoch 94/150\n",
      "600/600 [==============================] - 12s - loss: 0.0320 - acc: 0.9950    \n",
      "Epoch 95/150\n",
      "600/600 [==============================] - 12s - loss: 0.0083 - acc: 0.9967    \n",
      "Epoch 96/150\n",
      "600/600 [==============================] - 12s - loss: 0.0447 - acc: 0.9917    \n",
      "Epoch 97/150\n",
      "600/600 [==============================] - 12s - loss: 0.0535 - acc: 0.9850    \n",
      "Epoch 98/150\n",
      "600/600 [==============================] - 12s - loss: 0.0392 - acc: 0.9900    \n",
      "Epoch 99/150\n",
      "600/600 [==============================] - 12s - loss: 0.0013 - acc: 1.0000    \n",
      "Epoch 100/150\n",
      "600/600 [==============================] - 12s - loss: 0.0056 - acc: 0.9967    \n",
      "Epoch 101/150\n",
      "600/600 [==============================] - 12s - loss: 3.8015e-04 - acc: 1.0000    - ETA: 2s - loss: 4.6454e-04 - \n",
      "Epoch 102/150\n",
      "600/600 [==============================] - 12s - loss: 2.7245e-04 - acc: 1.0000    \n",
      "Epoch 103/150\n",
      "600/600 [==============================] - 12s - loss: 6.7486e-05 - acc: 1.0000    \n",
      "Epoch 104/150\n",
      "600/600 [==============================] - 12s - loss: 4.1773e-05 - acc: 1.0000    \n",
      "Epoch 105/150\n",
      "600/600 [==============================] - 12s - loss: 4.7584e-05 - acc: 1.0000    \n",
      "Epoch 106/150\n",
      "600/600 [==============================] - 12s - loss: 3.9648e-05 - acc: 1.0000    \n",
      "Epoch 107/150\n",
      "600/600 [==============================] - 13s - loss: 3.4245e-05 - acc: 1.0000    \n",
      "Epoch 108/150\n",
      "600/600 [==============================] - 13s - loss: 3.1809e-05 - acc: 1.0000    \n",
      "Epoch 109/150\n",
      "600/600 [==============================] - 13s - loss: 3.4558e-05 - acc: 1.0000    \n",
      "Epoch 110/150\n",
      "600/600 [==============================] - 14s - loss: 2.5596e-05 - acc: 1.0000    \n",
      "Epoch 111/150\n",
      "600/600 [==============================] - 14s - loss: 3.2448e-05 - acc: 1.0000    \n",
      "Epoch 112/150\n",
      "600/600 [==============================] - 14s - loss: 3.7060e-05 - acc: 1.0000    \n",
      "Epoch 113/150\n",
      "600/600 [==============================] - 14s - loss: 2.7955e-05 - acc: 1.0000    \n",
      "Epoch 114/150\n",
      "600/600 [==============================] - 14s - loss: 2.8689e-05 - acc: 1.0000    \n",
      "Epoch 115/150\n",
      "600/600 [==============================] - 14s - loss: 3.0380e-05 - acc: 1.0000    \n",
      "Epoch 116/150\n",
      "600/600 [==============================] - 13s - loss: 3.1422e-05 - acc: 1.0000    \n",
      "Epoch 117/150\n",
      "600/600 [==============================] - 13s - loss: 2.8024e-05 - acc: 1.0000    \n",
      "Epoch 118/150\n",
      "600/600 [==============================] - 13s - loss: 2.5936e-05 - acc: 1.0000    \n",
      "Epoch 119/150\n",
      "600/600 [==============================] - 12s - loss: 2.3716e-05 - acc: 1.0000    \n",
      "Epoch 120/150\n",
      "600/600 [==============================] - 13s - loss: 3.2455e-05 - acc: 1.0000    \n",
      "Epoch 121/150\n",
      "600/600 [==============================] - 13s - loss: 2.4805e-05 - acc: 1.0000    \n",
      "Epoch 122/150\n",
      "600/600 [==============================] - 12s - loss: 2.4924e-05 - acc: 1.0000    \n",
      "Epoch 123/150\n",
      "600/600 [==============================] - 12s - loss: 2.7204e-05 - acc: 1.0000    \n",
      "Epoch 124/150\n",
      "600/600 [==============================] - 12s - loss: 2.8078e-05 - acc: 1.0000    \n",
      "Epoch 125/150\n",
      "600/600 [==============================] - 13s - loss: 2.9585e-05 - acc: 1.0000    \n",
      "Epoch 126/150\n",
      "600/600 [==============================] - 12s - loss: 3.0969e-05 - acc: 1.0000    \n",
      "Epoch 127/150\n",
      "600/600 [==============================] - 13s - loss: 2.4222e-05 - acc: 1.0000    \n",
      "Epoch 128/150\n",
      "600/600 [==============================] - 12s - loss: 2.6473e-05 - acc: 1.0000    \n",
      "Epoch 129/150\n",
      "600/600 [==============================] - 13s - loss: 2.8627e-05 - acc: 1.0000    \n",
      "Epoch 130/150\n",
      "600/600 [==============================] - 12s - loss: 2.4977e-05 - acc: 1.0000    \n",
      "Epoch 131/150\n",
      "600/600 [==============================] - 12s - loss: 2.9688e-05 - acc: 1.0000    \n",
      "Epoch 132/150\n",
      "600/600 [==============================] - 12s - loss: 2.3592e-05 - acc: 1.0000    \n",
      "Epoch 133/150\n",
      "600/600 [==============================] - 12s - loss: 2.6154e-05 - acc: 1.0000    \n",
      "Epoch 134/150\n",
      "600/600 [==============================] - 12s - loss: 2.4907e-05 - acc: 1.0000    \n",
      "Epoch 135/150\n",
      "600/600 [==============================] - 13s - loss: 2.3128e-05 - acc: 1.0000    \n",
      "Epoch 136/150\n",
      "600/600 [==============================] - 13s - loss: 2.2230e-05 - acc: 1.0000    \n",
      "Epoch 137/150\n",
      "600/600 [==============================] - 13s - loss: 2.2700e-05 - acc: 1.0000    \n",
      "Epoch 138/150\n",
      "600/600 [==============================] - 12s - loss: 2.4220e-05 - acc: 1.0000    \n",
      "Epoch 139/150\n",
      "600/600 [==============================] - 12s - loss: 2.3728e-05 - acc: 1.0000    \n",
      "Epoch 140/150\n",
      "600/600 [==============================] - 12s - loss: 2.4410e-05 - acc: 1.0000    \n",
      "Epoch 141/150\n",
      "600/600 [==============================] - 12s - loss: 1.9762e-05 - acc: 1.0000    \n",
      "Epoch 142/150\n",
      "600/600 [==============================] - 12s - loss: 1.8022e-05 - acc: 1.0000    \n",
      "Epoch 143/150\n",
      "600/600 [==============================] - 12s - loss: 1.9358e-05 - acc: 1.0000    \n",
      "Epoch 144/150\n",
      "600/600 [==============================] - 12s - loss: 2.1567e-05 - acc: 1.0000    \n",
      "Epoch 145/150\n",
      "600/600 [==============================] - 12s - loss: 2.3558e-05 - acc: 1.0000    \n",
      "Epoch 146/150\n",
      "600/600 [==============================] - 13s - loss: 2.1112e-05 - acc: 1.0000    \n",
      "Epoch 147/150\n",
      "600/600 [==============================] - 13s - loss: 2.5424e-05 - acc: 1.0000    \n",
      "Epoch 148/150\n",
      "600/600 [==============================] - 13s - loss: 1.6431e-05 - acc: 1.0000    \n",
      "Epoch 149/150\n",
      "600/600 [==============================] - 13s - loss: 2.1880e-05 - acc: 1.0000    \n",
      "Epoch 150/150\n",
      "600/600 [==============================] - 13s - loss: 2.2677e-05 - acc: 1.0000    \n"
     ]
    },
    {
     "data": {
      "text/plain": [
       "<keras.callbacks.History at 0x7f1f9c462588>"
      ]
     },
     "execution_count": 13,
     "metadata": {},
     "output_type": "execute_result"
    }
   ],
   "source": [
    "### START CODE HERE ### (1 line)\n",
    "happyModel.fit(x = X_train, y = Y_train, epochs = 150, batch_size = 10)\n",
    "### END CODE HERE ###"
   ]
  },
  {
   "cell_type": "markdown",
   "metadata": {},
   "source": [
    "Note that if you run `fit()` again, the `model` will continue to train with the parameters it has already learnt instead of reinitializing them.\n",
    "\n",
    "**Exercise**: Implement step 4, i.e. test/evaluate the model."
   ]
  },
  {
   "cell_type": "code",
   "execution_count": 14,
   "metadata": {
    "scrolled": true
   },
   "outputs": [
    {
     "name": "stdout",
     "output_type": "stream",
     "text": [
      "150/150 [==============================] - 1s     \n",
      "\n",
      "Loss = 0.12385903972\n",
      "Test Accuracy = 0.973333330949\n"
     ]
    }
   ],
   "source": [
    "### START CODE HERE ### (1 line)\n",
    "preds = happyModel.evaluate(X_test, Y_test)\n",
    "### END CODE HERE ###\n",
    "print()\n",
    "print (\"Loss = \" + str(preds[0]))\n",
    "print (\"Test Accuracy = \" + str(preds[1]))"
   ]
  },
  {
   "cell_type": "markdown",
   "metadata": {},
   "source": [
    "If your `happyModel()` function worked, you should have observed much better than random-guessing (50%) accuracy on the train and test sets.\n",
    "\n",
    "To give you a point of comparison, our model gets around **95% test accuracy in 40 epochs** (and 99% train accuracy) with a mini batch size of 16 and \"adam\" optimizer. But our model gets decent accuracy after just 2-5 epochs, so if you're comparing different models you can also train a variety of models on just a few epochs and see how they compare. \n",
    "\n",
    "If you have not yet achieved a very good accuracy (let's say more than 80%), here're some things you can play around with to try to achieve it:\n",
    "\n",
    "- Try using blocks of CONV->BATCHNORM->RELU such as:\n",
    "```python\n",
    "X = Conv2D(32, (3, 3), strides = (1, 1), name = 'conv0')(X)\n",
    "X = BatchNormalization(axis = 3, name = 'bn0')(X)\n",
    "X = Activation('relu')(X)\n",
    "```\n",
    "until your height and width dimensions are quite low and your number of channels quite large (≈32 for example). You are encoding useful information in a volume with a lot of channels. You can then flatten the volume and use a fully-connected layer.\n",
    "- You can use MAXPOOL after such blocks. It will help you lower the dimension in height and width.\n",
    "- Change your optimizer. We find Adam works well. \n",
    "- If the model is struggling to run and you get memory issues, lower your batch_size (12 is usually a good compromise)\n",
    "- Run on more epochs, until you see the train accuracy plateauing. \n",
    "\n",
    "Even if you have achieved a good accuracy, please feel free to keep playing with your model to try to get even better results. \n",
    "\n",
    "**Note**: If you perform hyperparameter tuning on your model, the test set actually becomes a dev set, and your model might end up overfitting to the test (dev) set. But just for the purpose of this assignment, we won't worry about that here.\n"
   ]
  },
  {
   "cell_type": "markdown",
   "metadata": {},
   "source": [
    "## 3 - Conclusion\n",
    "\n",
    "Congratulations, you have solved the Happy House challenge! \n",
    "\n",
    "Now, you just need to link this model to the front-door camera of your house. We unfortunately won't go into the details of how to do that here. "
   ]
  },
  {
   "cell_type": "markdown",
   "metadata": {},
   "source": [
    "<font color='blue'>\n",
    "**What we would like you to remember from this assignment:**\n",
    "- Keras is a tool we recommend for rapid prototyping. It allows you to quickly try out different model architectures. Are there any applications of deep learning to your daily life that you'd like to implement using Keras? \n",
    "- Remember how to code a model in Keras and the four steps leading to the evaluation of your model on the test set. Create->Compile->Fit/Train->Evaluate/Test."
   ]
  },
  {
   "cell_type": "markdown",
   "metadata": {},
   "source": [
    "## 4 - Test with your own image (Optional)\n",
    "\n",
    "Congratulations on finishing this assignment. You can now take a picture of your face and see if you could enter the Happy House. To do that:\n",
    "    1. Click on \"File\" in the upper bar of this notebook, then click \"Open\" to go on your Coursera Hub.\n",
    "    2. Add your image to this Jupyter Notebook's directory, in the \"images\" folder\n",
    "    3. Write your image's name in the following code\n",
    "    4. Run the code and check if the algorithm is right (0 is unhappy, 1 is happy)!\n",
    "    \n",
    "The training/test sets were quite similar; for example, all the pictures were taken against the same background (since a front door camera is always mounted in the same position). This makes the problem easier, but a model trained on this data may or may not work on your own data. But feel free to give it a try! "
   ]
  },
  {
   "cell_type": "code",
   "execution_count": null,
   "metadata": {
    "collapsed": true
   },
   "outputs": [],
   "source": [
    "### START CODE HERE ###\n",
    "img_path = 'images/my_image.jpg'\n",
    "### END CODE HERE ###\n",
    "img = image.load_img(img_path, target_size=(64, 64))\n",
    "imshow(img)\n",
    "\n",
    "x = image.img_to_array(img)\n",
    "x = np.expand_dims(x, axis=0)\n",
    "x = preprocess_input(x)\n",
    "\n",
    "print(happyModel.predict(x))"
   ]
  },
  {
   "cell_type": "markdown",
   "metadata": {},
   "source": [
    "## 5 - Other useful functions in Keras (Optional)\n",
    "\n",
    "Two other basic features of Keras that you'll find useful are:\n",
    "- `model.summary()`: prints the details of your layers in a table with the sizes of its inputs/outputs\n",
    "- `plot_model()`: plots your graph in a nice layout. You can even save it as \".png\" using SVG() if you'd like to share it on social media ;). It is saved in \"File\" then \"Open...\" in the upper bar of the notebook.\n",
    "\n",
    "Run the following code."
   ]
  },
  {
   "cell_type": "code",
   "execution_count": 6,
   "metadata": {
    "scrolled": false
   },
   "outputs": [
    {
     "ename": "AttributeError",
     "evalue": "'NoneType' object has no attribute 'summary'",
     "output_type": "error",
     "traceback": [
      "\u001b[0;31m---------------------------------------------------------------------------\u001b[0m",
      "\u001b[0;31mAttributeError\u001b[0m                            Traceback (most recent call last)",
      "\u001b[0;32m<ipython-input-6-d38c6ba07a8b>\u001b[0m in \u001b[0;36m<module>\u001b[0;34m()\u001b[0m\n\u001b[0;32m----> 1\u001b[0;31m \u001b[0mhappyModel\u001b[0m\u001b[0;34m.\u001b[0m\u001b[0msummary\u001b[0m\u001b[0;34m(\u001b[0m\u001b[0;34m)\u001b[0m\u001b[0;34m\u001b[0m\u001b[0m\n\u001b[0m",
      "\u001b[0;31mAttributeError\u001b[0m: 'NoneType' object has no attribute 'summary'"
     ]
    }
   ],
   "source": [
    "happyModel.summary()"
   ]
  },
  {
   "cell_type": "code",
   "execution_count": null,
   "metadata": {
    "collapsed": true
   },
   "outputs": [],
   "source": [
    "plot_model(happyModel, to_file='HappyModel.png')\n",
    "SVG(model_to_dot(happyModel).create(prog='dot', format='svg'))"
   ]
  }
 ],
 "metadata": {
  "kernelspec": {
   "display_name": "Python 3",
   "language": "python",
   "name": "python3"
  },
  "language_info": {
   "codemirror_mode": {
    "name": "ipython",
    "version": 3
   },
   "file_extension": ".py",
   "mimetype": "text/x-python",
   "name": "python",
   "nbconvert_exporter": "python",
   "pygments_lexer": "ipython3",
   "version": "3.6.0"
  }
 },
 "nbformat": 4,
 "nbformat_minor": 2
}
